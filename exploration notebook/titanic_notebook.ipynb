{
 "cells": [
  {
   "cell_type": "markdown",
   "id": "dc8c2694",
   "metadata": {},
   "source": [
    "Load and Preview Spaceship Titanic Data"
   ]
  },
  {
   "cell_type": "code",
   "execution_count": 53,
   "id": "144460a1",
   "metadata": {},
   "outputs": [
    {
     "data": {
      "text/html": [
       "<div>\n",
       "<style scoped>\n",
       "    .dataframe tbody tr th:only-of-type {\n",
       "        vertical-align: middle;\n",
       "    }\n",
       "\n",
       "    .dataframe tbody tr th {\n",
       "        vertical-align: top;\n",
       "    }\n",
       "\n",
       "    .dataframe thead th {\n",
       "        text-align: right;\n",
       "    }\n",
       "</style>\n",
       "<table border=\"1\" class=\"dataframe\">\n",
       "  <thead>\n",
       "    <tr style=\"text-align: right;\">\n",
       "      <th></th>\n",
       "      <th>PassengerId</th>\n",
       "      <th>HomePlanet</th>\n",
       "      <th>CryoSleep</th>\n",
       "      <th>Cabin</th>\n",
       "      <th>Destination</th>\n",
       "      <th>Age</th>\n",
       "      <th>VIP</th>\n",
       "      <th>RoomService</th>\n",
       "      <th>FoodCourt</th>\n",
       "      <th>ShoppingMall</th>\n",
       "      <th>Spa</th>\n",
       "      <th>VRDeck</th>\n",
       "      <th>Name</th>\n",
       "      <th>Transported</th>\n",
       "    </tr>\n",
       "  </thead>\n",
       "  <tbody>\n",
       "    <tr>\n",
       "      <th>0</th>\n",
       "      <td>0001_01</td>\n",
       "      <td>Europa</td>\n",
       "      <td>False</td>\n",
       "      <td>B/0/P</td>\n",
       "      <td>TRAPPIST-1e</td>\n",
       "      <td>39.0</td>\n",
       "      <td>False</td>\n",
       "      <td>0.0</td>\n",
       "      <td>0.0</td>\n",
       "      <td>0.0</td>\n",
       "      <td>0.0</td>\n",
       "      <td>0.0</td>\n",
       "      <td>Maham Ofracculy</td>\n",
       "      <td>False</td>\n",
       "    </tr>\n",
       "    <tr>\n",
       "      <th>1</th>\n",
       "      <td>0002_01</td>\n",
       "      <td>Earth</td>\n",
       "      <td>False</td>\n",
       "      <td>F/0/S</td>\n",
       "      <td>TRAPPIST-1e</td>\n",
       "      <td>24.0</td>\n",
       "      <td>False</td>\n",
       "      <td>109.0</td>\n",
       "      <td>9.0</td>\n",
       "      <td>25.0</td>\n",
       "      <td>549.0</td>\n",
       "      <td>44.0</td>\n",
       "      <td>Juanna Vines</td>\n",
       "      <td>True</td>\n",
       "    </tr>\n",
       "    <tr>\n",
       "      <th>2</th>\n",
       "      <td>0003_01</td>\n",
       "      <td>Europa</td>\n",
       "      <td>False</td>\n",
       "      <td>A/0/S</td>\n",
       "      <td>TRAPPIST-1e</td>\n",
       "      <td>58.0</td>\n",
       "      <td>True</td>\n",
       "      <td>43.0</td>\n",
       "      <td>3576.0</td>\n",
       "      <td>0.0</td>\n",
       "      <td>6715.0</td>\n",
       "      <td>49.0</td>\n",
       "      <td>Altark Susent</td>\n",
       "      <td>False</td>\n",
       "    </tr>\n",
       "    <tr>\n",
       "      <th>3</th>\n",
       "      <td>0003_02</td>\n",
       "      <td>Europa</td>\n",
       "      <td>False</td>\n",
       "      <td>A/0/S</td>\n",
       "      <td>TRAPPIST-1e</td>\n",
       "      <td>33.0</td>\n",
       "      <td>False</td>\n",
       "      <td>0.0</td>\n",
       "      <td>1283.0</td>\n",
       "      <td>371.0</td>\n",
       "      <td>3329.0</td>\n",
       "      <td>193.0</td>\n",
       "      <td>Solam Susent</td>\n",
       "      <td>False</td>\n",
       "    </tr>\n",
       "    <tr>\n",
       "      <th>4</th>\n",
       "      <td>0004_01</td>\n",
       "      <td>Earth</td>\n",
       "      <td>False</td>\n",
       "      <td>F/1/S</td>\n",
       "      <td>TRAPPIST-1e</td>\n",
       "      <td>16.0</td>\n",
       "      <td>False</td>\n",
       "      <td>303.0</td>\n",
       "      <td>70.0</td>\n",
       "      <td>151.0</td>\n",
       "      <td>565.0</td>\n",
       "      <td>2.0</td>\n",
       "      <td>Willy Santantines</td>\n",
       "      <td>True</td>\n",
       "    </tr>\n",
       "  </tbody>\n",
       "</table>\n",
       "</div>"
      ],
      "text/plain": [
       "  PassengerId HomePlanet CryoSleep  Cabin  Destination   Age    VIP  \\\n",
       "0     0001_01     Europa     False  B/0/P  TRAPPIST-1e  39.0  False   \n",
       "1     0002_01      Earth     False  F/0/S  TRAPPIST-1e  24.0  False   \n",
       "2     0003_01     Europa     False  A/0/S  TRAPPIST-1e  58.0   True   \n",
       "3     0003_02     Europa     False  A/0/S  TRAPPIST-1e  33.0  False   \n",
       "4     0004_01      Earth     False  F/1/S  TRAPPIST-1e  16.0  False   \n",
       "\n",
       "   RoomService  FoodCourt  ShoppingMall     Spa  VRDeck               Name  \\\n",
       "0          0.0        0.0           0.0     0.0     0.0    Maham Ofracculy   \n",
       "1        109.0        9.0          25.0   549.0    44.0       Juanna Vines   \n",
       "2         43.0     3576.0           0.0  6715.0    49.0      Altark Susent   \n",
       "3          0.0     1283.0         371.0  3329.0   193.0       Solam Susent   \n",
       "4        303.0       70.0         151.0   565.0     2.0  Willy Santantines   \n",
       "\n",
       "   Transported  \n",
       "0        False  \n",
       "1         True  \n",
       "2        False  \n",
       "3        False  \n",
       "4         True  "
      ]
     },
     "execution_count": 53,
     "metadata": {},
     "output_type": "execute_result"
    }
   ],
   "source": [
    "import pandas as pd\n",
    "\n",
    "# Load the data\n",
    "train = pd.read_csv(\"train.csv\")\n",
    "test = pd.read_csv(\"test.csv\")\n",
    "\n",
    "# Preview the training data\n",
    "train.head()\n"
   ]
  },
  {
   "cell_type": "markdown",
   "id": "ac93f317",
   "metadata": {},
   "source": [
    "Basic Shape of Data "
   ]
  },
  {
   "cell_type": "code",
   "execution_count": 54,
   "id": "c1456788",
   "metadata": {},
   "outputs": [
    {
     "name": "stdout",
     "output_type": "stream",
     "text": [
      "Train shape: (8693, 14)\n",
      "Test shape: (4277, 13)\n",
      "<class 'pandas.core.frame.DataFrame'>\n",
      "RangeIndex: 8693 entries, 0 to 8692\n",
      "Data columns (total 14 columns):\n",
      " #   Column        Non-Null Count  Dtype  \n",
      "---  ------        --------------  -----  \n",
      " 0   PassengerId   8693 non-null   object \n",
      " 1   HomePlanet    8492 non-null   object \n",
      " 2   CryoSleep     8476 non-null   object \n",
      " 3   Cabin         8494 non-null   object \n",
      " 4   Destination   8511 non-null   object \n",
      " 5   Age           8514 non-null   float64\n",
      " 6   VIP           8490 non-null   object \n",
      " 7   RoomService   8512 non-null   float64\n",
      " 8   FoodCourt     8510 non-null   float64\n",
      " 9   ShoppingMall  8485 non-null   float64\n",
      " 10  Spa           8510 non-null   float64\n",
      " 11  VRDeck        8505 non-null   float64\n",
      " 12  Name          8493 non-null   object \n",
      " 13  Transported   8693 non-null   bool   \n",
      "dtypes: bool(1), float64(6), object(7)\n",
      "memory usage: 891.5+ KB\n"
     ]
    }
   ],
   "source": [
    "print(\"Train shape:\", train.shape)\n",
    "print(\"Test shape:\", test.shape)\n",
    "\n",
    "# Check column types and nulls\n",
    "train.info()\n"
   ]
  },
  {
   "cell_type": "markdown",
   "id": "714548c8",
   "metadata": {},
   "source": [
    "Are there missing values in the data?"
   ]
  },
  {
   "cell_type": "code",
   "execution_count": 55,
   "id": "6c9fea5a",
   "metadata": {},
   "outputs": [
    {
     "data": {
      "text/plain": [
       "CryoSleep       217\n",
       "ShoppingMall    208\n",
       "VIP             203\n",
       "HomePlanet      201\n",
       "Name            200\n",
       "Cabin           199\n",
       "VRDeck          188\n",
       "FoodCourt       183\n",
       "Spa             183\n",
       "Destination     182\n",
       "RoomService     181\n",
       "Age             179\n",
       "PassengerId       0\n",
       "Transported       0\n",
       "dtype: int64"
      ]
     },
     "execution_count": 55,
     "metadata": {},
     "output_type": "execute_result"
    }
   ],
   "source": [
    "# Total missing values per column\n",
    "train.isnull().sum().sort_values(ascending=False)\n"
   ]
  },
  {
   "cell_type": "markdown",
   "id": "625ee45a",
   "metadata": {},
   "source": [
    "What is the balance of transported versus non-transported individuals?"
   ]
  },
  {
   "cell_type": "code",
   "execution_count": 56,
   "id": "254377e6",
   "metadata": {},
   "outputs": [
    {
     "data": {
      "text/plain": [
       "Transported\n",
       "True     0.503624\n",
       "False    0.496376\n",
       "Name: proportion, dtype: float64"
      ]
     },
     "execution_count": 56,
     "metadata": {},
     "output_type": "execute_result"
    }
   ],
   "source": [
    "# Check distribution of the target variable\n",
    "train[\"Transported\"].value_counts(normalize=True)\n"
   ]
  },
  {
   "cell_type": "markdown",
   "id": "4be04f33",
   "metadata": {},
   "source": [
    "Quick look at categorical features"
   ]
  },
  {
   "cell_type": "code",
   "execution_count": 57,
   "id": "91e4d87d",
   "metadata": {},
   "outputs": [
    {
     "name": "stdout",
     "output_type": "stream",
     "text": [
      "\n",
      "HomePlanet:\n",
      " HomePlanet\n",
      "Earth     4602\n",
      "Europa    2131\n",
      "Mars      1759\n",
      "NaN        201\n",
      "Name: count, dtype: int64\n",
      "\n",
      "CryoSleep:\n",
      " CryoSleep\n",
      "False    5439\n",
      "True     3037\n",
      "NaN       217\n",
      "Name: count, dtype: int64\n",
      "\n",
      "Cabin:\n",
      " Cabin\n",
      "NaN        199\n",
      "G/734/S      8\n",
      "C/137/S      7\n",
      "B/201/P      7\n",
      "G/109/P      7\n",
      "          ... \n",
      "G/556/P      1\n",
      "E/231/S      1\n",
      "G/545/S      1\n",
      "G/543/S      1\n",
      "C/178/S      1\n",
      "Name: count, Length: 6561, dtype: int64\n",
      "\n",
      "Destination:\n",
      " Destination\n",
      "TRAPPIST-1e      5915\n",
      "55 Cancri e      1800\n",
      "PSO J318.5-22     796\n",
      "NaN               182\n",
      "Name: count, dtype: int64\n",
      "\n",
      "VIP:\n",
      " VIP\n",
      "False    8291\n",
      "NaN       203\n",
      "True      199\n",
      "Name: count, dtype: int64\n"
     ]
    }
   ],
   "source": [
    "# Look at unique values of a few key categorical features\n",
    "for col in ['HomePlanet', 'CryoSleep', 'Cabin', 'Destination', 'VIP']:\n",
    "    print(f\"\\n{col}:\\n\", train[col].value_counts(dropna=False))\n"
   ]
  },
  {
   "cell_type": "markdown",
   "id": "6435efed",
   "metadata": {},
   "source": [
    "Summary Stats for numeric features "
   ]
  },
  {
   "cell_type": "code",
   "execution_count": 58,
   "id": "1e6a683b",
   "metadata": {},
   "outputs": [
    {
     "data": {
      "text/html": [
       "<div>\n",
       "<style scoped>\n",
       "    .dataframe tbody tr th:only-of-type {\n",
       "        vertical-align: middle;\n",
       "    }\n",
       "\n",
       "    .dataframe tbody tr th {\n",
       "        vertical-align: top;\n",
       "    }\n",
       "\n",
       "    .dataframe thead th {\n",
       "        text-align: right;\n",
       "    }\n",
       "</style>\n",
       "<table border=\"1\" class=\"dataframe\">\n",
       "  <thead>\n",
       "    <tr style=\"text-align: right;\">\n",
       "      <th></th>\n",
       "      <th>Age</th>\n",
       "      <th>RoomService</th>\n",
       "      <th>FoodCourt</th>\n",
       "      <th>ShoppingMall</th>\n",
       "      <th>Spa</th>\n",
       "      <th>VRDeck</th>\n",
       "    </tr>\n",
       "  </thead>\n",
       "  <tbody>\n",
       "    <tr>\n",
       "      <th>count</th>\n",
       "      <td>8514.000000</td>\n",
       "      <td>8512.000000</td>\n",
       "      <td>8510.000000</td>\n",
       "      <td>8485.000000</td>\n",
       "      <td>8510.000000</td>\n",
       "      <td>8505.000000</td>\n",
       "    </tr>\n",
       "    <tr>\n",
       "      <th>mean</th>\n",
       "      <td>28.827930</td>\n",
       "      <td>224.687617</td>\n",
       "      <td>458.077203</td>\n",
       "      <td>173.729169</td>\n",
       "      <td>311.138778</td>\n",
       "      <td>304.854791</td>\n",
       "    </tr>\n",
       "    <tr>\n",
       "      <th>std</th>\n",
       "      <td>14.489021</td>\n",
       "      <td>666.717663</td>\n",
       "      <td>1611.489240</td>\n",
       "      <td>604.696458</td>\n",
       "      <td>1136.705535</td>\n",
       "      <td>1145.717189</td>\n",
       "    </tr>\n",
       "    <tr>\n",
       "      <th>min</th>\n",
       "      <td>0.000000</td>\n",
       "      <td>0.000000</td>\n",
       "      <td>0.000000</td>\n",
       "      <td>0.000000</td>\n",
       "      <td>0.000000</td>\n",
       "      <td>0.000000</td>\n",
       "    </tr>\n",
       "    <tr>\n",
       "      <th>25%</th>\n",
       "      <td>19.000000</td>\n",
       "      <td>0.000000</td>\n",
       "      <td>0.000000</td>\n",
       "      <td>0.000000</td>\n",
       "      <td>0.000000</td>\n",
       "      <td>0.000000</td>\n",
       "    </tr>\n",
       "    <tr>\n",
       "      <th>50%</th>\n",
       "      <td>27.000000</td>\n",
       "      <td>0.000000</td>\n",
       "      <td>0.000000</td>\n",
       "      <td>0.000000</td>\n",
       "      <td>0.000000</td>\n",
       "      <td>0.000000</td>\n",
       "    </tr>\n",
       "    <tr>\n",
       "      <th>75%</th>\n",
       "      <td>38.000000</td>\n",
       "      <td>47.000000</td>\n",
       "      <td>76.000000</td>\n",
       "      <td>27.000000</td>\n",
       "      <td>59.000000</td>\n",
       "      <td>46.000000</td>\n",
       "    </tr>\n",
       "    <tr>\n",
       "      <th>max</th>\n",
       "      <td>79.000000</td>\n",
       "      <td>14327.000000</td>\n",
       "      <td>29813.000000</td>\n",
       "      <td>23492.000000</td>\n",
       "      <td>22408.000000</td>\n",
       "      <td>24133.000000</td>\n",
       "    </tr>\n",
       "  </tbody>\n",
       "</table>\n",
       "</div>"
      ],
      "text/plain": [
       "               Age   RoomService     FoodCourt  ShoppingMall           Spa  \\\n",
       "count  8514.000000   8512.000000   8510.000000   8485.000000   8510.000000   \n",
       "mean     28.827930    224.687617    458.077203    173.729169    311.138778   \n",
       "std      14.489021    666.717663   1611.489240    604.696458   1136.705535   \n",
       "min       0.000000      0.000000      0.000000      0.000000      0.000000   \n",
       "25%      19.000000      0.000000      0.000000      0.000000      0.000000   \n",
       "50%      27.000000      0.000000      0.000000      0.000000      0.000000   \n",
       "75%      38.000000     47.000000     76.000000     27.000000     59.000000   \n",
       "max      79.000000  14327.000000  29813.000000  23492.000000  22408.000000   \n",
       "\n",
       "             VRDeck  \n",
       "count   8505.000000  \n",
       "mean     304.854791  \n",
       "std     1145.717189  \n",
       "min        0.000000  \n",
       "25%        0.000000  \n",
       "50%        0.000000  \n",
       "75%       46.000000  \n",
       "max    24133.000000  "
      ]
     },
     "execution_count": 58,
     "metadata": {},
     "output_type": "execute_result"
    }
   ],
   "source": [
    "# Summary statistics\n",
    "train.describe()\n"
   ]
  },
  {
   "cell_type": "markdown",
   "id": "c800022c",
   "metadata": {},
   "source": [
    "Plots of transported vs not transported individuals based on feature"
   ]
  },
  {
   "cell_type": "markdown",
   "id": "57edab55",
   "metadata": {},
   "source": [
    "Age bar plot (transported vs not transported)"
   ]
  },
  {
   "cell_type": "code",
   "execution_count": 59,
   "id": "faea0954",
   "metadata": {},
   "outputs": [
    {
     "data": {
      "image/png": "[encoded data removed]",
      "text/plain": [
       "<Figure size 640x480 with 1 Axes>"
      ]
     },
     "metadata": {},
     "output_type": "display_data"
    }
   ],
   "source": [
    "import seaborn as sns\n",
    "import matplotlib.pyplot as plt\n",
    "\n",
    "# Age distribution by Transported status\n",
    "sns.histplot(data=train, x=\"Age\", hue=\"Transported\", bins=30)\n",
    "plt.title(\"Age Distribution by Transported Status\")\n",
    "plt.show()\n"
   ]
  },
  {
   "cell_type": "markdown",
   "id": "0e28db07",
   "metadata": {},
   "source": [
    "HomePlanet bar plot (transported vs not transported)"
   ]
  },
  {
   "cell_type": "code",
   "execution_count": 60,
   "id": "fe07413a",
   "metadata": {},
   "outputs": [
    {
     "data": {
      "image/png": "[encoded data removed]",
      "text/plain": [
       "<Figure size 640x480 with 1 Axes>"
      ]
     },
     "metadata": {},
     "output_type": "display_data"
    }
   ],
   "source": [
    "import seaborn as sns\n",
    "import matplotlib.pyplot as plt\n",
    "\n",
    "sns.histplot(\n",
    "    data=train,\n",
    "    x=\"HomePlanet\",\n",
    "    hue=\"Transported\",\n",
    "    multiple=\"dodge\",       # ← this is the key!\n",
    "    shrink=0.8,             # optional: spacing between bars\n",
    "    stat=\"count\",           # just to be explicit\n",
    "    palette=\"Set2\"          # optional: adds nicer colors\n",
    ")\n",
    "\n",
    "plt.title(\"Passenger Count by HomePlanet and Transported Status\")\n",
    "plt.xlabel(\"HomePlanet\")\n",
    "plt.ylabel(\"Count\")\n",
    "plt.show()\n"
   ]
  },
  {
   "cell_type": "markdown",
   "id": "97dc907f",
   "metadata": {},
   "source": [
    "CryoSleep barplot (transported vs not transported)"
   ]
  },
  {
   "cell_type": "code",
   "execution_count": 61,
   "id": "dd4c237b",
   "metadata": {},
   "outputs": [
    {
     "data": {
      "text/plain": [
       "Text(0.5, 1.0, 'CryoSleep vs Transported')"
      ]
     },
     "execution_count": 61,
     "metadata": {},
     "output_type": "execute_result"
    },
    {
     "data": {
      "image/png": "[encoded data removed]",
      "text/plain": [
       "<Figure size 640x480 with 1 Axes>"
      ]
     },
     "metadata": {},
     "output_type": "display_data"
    }
   ],
   "source": [
    "sns.countplot(data=train, x='CryoSleep', hue='Transported')\n",
    "plt.title(\"CryoSleep vs Transported\")\n"
   ]
  },
  {
   "cell_type": "markdown",
   "id": "04074f70",
   "metadata": {},
   "source": [
    "Data Cleaning & Feature Engineering "
   ]
  },
  {
   "cell_type": "code",
   "execution_count": 62,
   "id": "2552c622",
   "metadata": {},
   "outputs": [],
   "source": [
    "pd.set_option('future.no_silent_downcasting', True)\n",
    "\n",
    "# Copy original to avoid mutation\n",
    "df = train.copy()\n",
    "\n",
    "# Drop PassengerId (not predictive), but keep for later in test set\n",
    "df.drop(columns=[\"PassengerId\", \"Name\", \"Cabin\"], inplace=True)  # Cabin is complicated, skip for now\n",
    "\n",
    "# Handle missing values\n",
    "for col in ['HomePlanet', 'CryoSleep', 'Destination', 'VIP']:\n",
    "    mode_val = df[col].mode(dropna=True)[0]\n",
    "    df[col] = df[col].fillna(mode_val).astype(df[col].dtype)\n",
    "\n",
    "\n",
    "# Fill numeric vars with median\n",
    "num_cols = ['Age', 'RoomService', 'FoodCourt', 'ShoppingMall', 'Spa', 'VRDeck']\n",
    "for col in num_cols:\n",
    "    df[col] = df[col].fillna(df[col].median())\n",
    "\n",
    "# Encode binary columns\n",
    "df['CryoSleep'] = df['CryoSleep'].map({'True': 1, 'False': 0})\n",
    "df['VIP'] = df['VIP'].map({'True': 1, 'False': 0})\n",
    "\n",
    "# One-hot encode multi-class categoricals\n",
    "df = pd.get_dummies(df, columns=['HomePlanet', 'Destination'], drop_first=True)\n",
    "\n",
    "# Create new feature: TotalSpend\n",
    "df[\"TotalSpend\"] = df[[\"RoomService\", \"FoodCourt\", \"ShoppingMall\", \"Spa\", \"VRDeck\"]].sum(axis=1)\n",
    "\n",
    "# Encode target variable\n",
    "df[\"Transported\"] = df[\"Transported\"].map({True: 1, False: 0})\n"
   ]
  },
  {
   "cell_type": "markdown",
   "id": "7683ad95",
   "metadata": {},
   "source": [
    "Train/Test Split and Modeling "
   ]
  },
  {
   "cell_type": "code",
   "execution_count": 63,
   "id": "c1dcc96b",
   "metadata": {},
   "outputs": [
    {
     "name": "stdout",
     "output_type": "stream",
     "text": [
      "Validation Accuracy: 0.7763082231167338\n",
      "\n",
      "Classification Report:\n",
      "               precision    recall  f1-score   support\n",
      "\n",
      "           0       0.85      0.67      0.75       861\n",
      "           1       0.73      0.88      0.80       878\n",
      "\n",
      "    accuracy                           0.78      1739\n",
      "   macro avg       0.79      0.78      0.77      1739\n",
      "weighted avg       0.79      0.78      0.77      1739\n",
      "\n"
     ]
    }
   ],
   "source": [
    "from sklearn.model_selection import train_test_split\n",
    "from sklearn.linear_model import LogisticRegression\n",
    "from sklearn.metrics import accuracy_score, classification_report\n",
    "\n",
    "# Prepare features and target\n",
    "X = df.drop(columns=[\"Transported\"])\n",
    "y = df[\"Transported\"]\n",
    "\n",
    "# Fill any remaining NaNs just in case\n",
    "X = X.fillna(0)\n",
    "\n",
    "# Train/test split\n",
    "X_train, X_val, y_train, y_val = train_test_split(X, y, test_size=0.2, random_state=42)\n",
    "\n",
    "# Fit logistic regression\n",
    "model = LogisticRegression(max_iter=1000)\n",
    "model.fit(X_train, y_train)\n",
    "\n",
    "# Predict and evaluate\n",
    "y_pred = model.predict(X_val)\n",
    "\n",
    "print(\"Validation Accuracy:\", accuracy_score(y_val, y_pred))\n",
    "print(\"\\nClassification Report:\\n\", classification_report(y_val, y_pred))\n"
   ]
  },
  {
   "cell_type": "markdown",
   "id": "8700968d",
   "metadata": {},
   "source": [
    "Decision Tree"
   ]
  },
  {
   "cell_type": "code",
   "execution_count": 64,
   "id": "6ab20920",
   "metadata": {},
   "outputs": [
    {
     "name": "stdout",
     "output_type": "stream",
     "text": [
      "Tree Accuracy: 0.7584818861414606\n"
     ]
    }
   ],
   "source": [
    "from sklearn.tree import DecisionTreeClassifier\n",
    "\n",
    "tree_model = DecisionTreeClassifier(max_depth=4, random_state=42)\n",
    "tree_model.fit(X_train, y_train)\n",
    "y_tree_pred = tree_model.predict(X_val)\n",
    "\n",
    "print(\"Tree Accuracy:\", accuracy_score(y_val, y_tree_pred))\n"
   ]
  },
  {
   "cell_type": "markdown",
   "id": "81bb91eb",
   "metadata": {},
   "source": [
    "Decision Forest"
   ]
  },
  {
   "cell_type": "code",
   "execution_count": 65,
   "id": "5e1d49c0",
   "metadata": {},
   "outputs": [
    {
     "name": "stdout",
     "output_type": "stream",
     "text": [
      "Random Forest Accuracy: 0.7768832662449684\n",
      "\n",
      "Classification Report:\n",
      "               precision    recall  f1-score   support\n",
      "\n",
      "           0       0.79      0.74      0.77       861\n",
      "           1       0.76      0.81      0.79       878\n",
      "\n",
      "    accuracy                           0.78      1739\n",
      "   macro avg       0.78      0.78      0.78      1739\n",
      "weighted avg       0.78      0.78      0.78      1739\n",
      "\n"
     ]
    }
   ],
   "source": [
    "from sklearn.ensemble import RandomForestClassifier\n",
    "from sklearn.metrics import accuracy_score, classification_report\n",
    "\n",
    "# Train a Random Forest\n",
    "forest_model = RandomForestClassifier(\n",
    "    n_estimators=100, # number of trees\n",
    "    max_depth=12, # try to avoid overfitting\n",
    "    random_state=42, # ensure reporducibility\n",
    "    n_jobs=-1         \n",
    ")\n",
    "\n",
    "forest_model.fit(X_train, y_train)\n",
    "y_forest_pred = forest_model.predict(X_val)\n",
    "\n",
    "# Evaluate\n",
    "print(\"Random Forest Accuracy:\", accuracy_score(y_val, y_forest_pred))\n",
    "print(\"\\nClassification Report:\\n\", classification_report(y_val, y_forest_pred))\n"
   ]
  },
  {
   "cell_type": "markdown",
   "id": "e7865576",
   "metadata": {},
   "source": [
    "Submission csv"
   ]
  },
  {
   "cell_type": "code",
   "execution_count": 66,
   "id": "6a3ab8f8",
   "metadata": {},
   "outputs": [],
   "source": [
    "# Load the test set\n",
    "test = pd.read_csv(\"test.csv\")\n",
    "submission = test.copy()\n",
    "\n",
    "# === Preprocess test data just like train ===\n",
    "\n",
    "# Drop columns not used\n",
    "submission.drop(columns=[\"Name\", \"Cabin\"], inplace=True)\n",
    "\n",
    "# Fill missing categorical values\n",
    "for col in ['HomePlanet', 'CryoSleep', 'Destination', 'VIP']:\n",
    "    submission[col] = submission[col].fillna(submission[col].mode(dropna=True)[0])\n",
    "\n",
    "# Fill missing numeric values\n",
    "for col in ['Age', 'RoomService', 'FoodCourt', 'ShoppingMall', 'Spa', 'VRDeck']:\n",
    "    submission[col] = submission[col].fillna(submission[col].median())\n",
    "\n",
    "# Binary encodings\n",
    "submission['CryoSleep'] = submission['CryoSleep'].map({'True': 1, 'False': 0})\n",
    "submission['VIP'] = submission['VIP'].map({'True': 1, 'False': 0})\n",
    "\n",
    "# One-hot encoding\n",
    "submission = pd.get_dummies(submission, columns=['HomePlanet', 'Destination'], drop_first=True)\n",
    "\n",
    "# Add TotalSpend\n",
    "submission[\"TotalSpend\"] = submission[[\"RoomService\", \"FoodCourt\", \"ShoppingMall\", \"Spa\", \"VRDeck\"]].sum(axis=1)\n",
    "\n",
    "# Save PassengerId and remove it from features\n",
    "passenger_ids = submission[\"PassengerId\"]\n",
    "submission = submission.drop(columns=[\"PassengerId\"])\n",
    "\n",
    "# Align test data with training columns (in case any mismatch)\n",
    "submission = submission.reindex(columns=X_train.columns, fill_value=0)\n",
    "\n",
    "# === Make predictions\n",
    "preds = forest_model.predict(submission)\n",
    "\n",
    "# === Convert to expected output format\n",
    "output = pd.DataFrame({\n",
    "    \"PassengerId\": passenger_ids,\n",
    "    \"Transported\": preds.astype(bool)  # back to True/False for Kaggle\n",
    "})\n",
    "\n",
    "# === Save to CSV\n",
    "output.to_csv(\"submission.csv\", index=False)\n"
   ]
  },
  {
   "cell_type": "code",
   "execution_count": 67,
   "id": "d9fbb090",
   "metadata": {},
   "outputs": [
    {
     "data": {
      "image/png": "[encoded data removed]",
      "text/plain": [
       "<Figure size 640x480 with 1 Axes>"
      ]
     },
     "metadata": {},
     "output_type": "display_data"
    }
   ],
   "source": [
    "import pandas as pd\n",
    "import matplotlib.pyplot as plt\n",
    "\n",
    "# Define label mapping\n",
    "pretty_names = {\n",
    "    \"Destination_TRAPPIST-1e\": \"Dest: TRAPPIST-1e\",\n",
    "    \"HomePlanet_Mars\": \"Home: Mars\",\n",
    "    \"HomePlanet_Europa\": \"Home: Europa\",\n",
    "    \"Age\": \"Age\",\n",
    "    \"ShoppingMall\": \"Shopping $\",\n",
    "    \"RoomService\": \"RoomService $\",\n",
    "    \"FoodCourt\": \"FoodCourt $\",\n",
    "    \"VRDeck\": \"VRDeck $\",\n",
    "    \"Spa\": \"Spa $\",\n",
    "    \"TotalSpend\": \"Total Spend\"\n",
    "}\n",
    "\n",
    "# Get top 10 features\n",
    "importances = pd.Series(forest_model.feature_importances_, index=X_train.columns)\n",
    "top_features = importances.nlargest(10)\n",
    "\n",
    "# Apply pretty names\n",
    "top_features.index = [pretty_names.get(col, col) for col in top_features.index]\n",
    "\n",
    "# Plot\n",
    "top_features.plot(kind='barh')\n",
    "plt.title(\"Top 10 Feature Importances (Random Forest)\")\n",
    "plt.xlabel(\"Importance Score\")\n",
    "plt.tight_layout()\n",
    "plt.show()\n",
    "\n"
   ]
  }
 ],
 "metadata": {
  "kernelspec": {
   "display_name": "base",
   "language": "python",
   "name": "python3"
  },
  "language_info": {
   "codemirror_mode": {
    "name": "ipython",
    "version": 3
   },
   "file_extension": ".py",
   "mimetype": "text/x-python",
   "name": "python",
   "nbconvert_exporter": "python",
   "pygments_lexer": "ipython3",
   "version": "3.11.5"
  }
 },
 "nbformat": 4,
 "nbformat_minor": 5
}
